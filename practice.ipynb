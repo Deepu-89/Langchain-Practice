{
 "cells": [
  {
   "cell_type": "code",
   "execution_count": 77,
   "metadata": {},
   "outputs": [
    {
     "data": {
      "text/plain": [
       "'the loard'"
      ]
     },
     "execution_count": 77,
     "metadata": {},
     "output_type": "execute_result"
    }
   ],
   "source": [
    "#sting \n",
    "\n",
    "\n",
    "h= \"main the loard\"\n",
    "h[5:]"
   ]
  },
  {
   "cell_type": "code",
   "execution_count": 78,
   "metadata": {},
   "outputs": [
    {
     "data": {
      "text/plain": [
       "[18, 2, 3, 4, 5, 6]"
      ]
     },
     "execution_count": 78,
     "metadata": {},
     "output_type": "execute_result"
    }
   ],
   "source": [
    "#list\n",
    "list=[1,2,3,4,5,6,7]\n",
    "list[1:5]\n",
    "list.pop()\n",
    "len(list) \n",
    "list[0]= 18\n",
    "list"
   ]
  },
  {
   "cell_type": "code",
   "execution_count": 79,
   "metadata": {},
   "outputs": [
    {
     "data": {
      "text/plain": [
       "2"
      ]
     },
     "execution_count": 79,
     "metadata": {},
     "output_type": "execute_result"
    }
   ],
   "source": [
    "#tuple \n",
    "\n",
    "t= (1,2,5,6,1)\n",
    "type(t)\n",
    "t.count(1)\n",
    "t.index(5)"
   ]
  },
  {
   "cell_type": "code",
   "execution_count": 80,
   "metadata": {},
   "outputs": [
    {
     "data": {
      "text/plain": [
       "{2, 15, 16, 18, 61, 62, 626, 662}"
      ]
     },
     "execution_count": 80,
     "metadata": {},
     "output_type": "execute_result"
    }
   ],
   "source": [
    "#dict & set \n",
    "\n",
    "dict={\"a\":5,'b':5,'d':5.0}\n",
    "\n",
    "set={15,16,16,16,18,18,61,62,662,626,626}\n",
    "\n",
    "set\n",
    "dict.keys()\n",
    "dict.get(\"a\")\n",
    "dict.pop(\"a\")\n",
    "dict.fromkeys(\"f\")\n",
    "dict.values()\n",
    "set.add(2)\n",
    "set\n",
    "\n",
    " "
   ]
  },
  {
   "cell_type": "code",
   "execution_count": 81,
   "metadata": {},
   "outputs": [
    {
     "name": "stdout",
     "output_type": "stream",
     "text": [
      "present value of x is 0\n",
      "present value of x is 1\n",
      "present value of x is 2\n",
      "present value of x is 3\n",
      "present value of x is 4\n",
      "present value of x is 5\n",
      "present value of x is 6\n",
      "present value of x is 7\n",
      "present value of x is 8\n",
      "present value of x is 9\n",
      "present value of x is 10\n",
      "x is greater than 10\n",
      "printa after while ...\n"
     ]
    }
   ],
   "source": [
    "# while loops and continue \n",
    "\n",
    "x=0\n",
    "while x<=10:\n",
    "    print(f'present value of x is {x}')\n",
    "    x+=1\n",
    "else:\n",
    "    print('x is greater than 10')\n",
    "\n",
    "print('printa after while ...' )  "
   ]
  },
  {
   "cell_type": "code",
   "execution_count": 82,
   "metadata": {},
   "outputs": [
    {
     "name": "stdout",
     "output_type": "stream",
     "text": [
      "13\n",
      "26\n",
      "39\n",
      "52\n",
      "65\n",
      "78\n",
      "91\n"
     ]
    }
   ],
   "source": [
    "# while loops with breaks and continue\n",
    "#continue \n",
    "x=12\n",
    "while x<100:\n",
    "    x+=1\n",
    "    if x % 13 !=0:\n",
    "        continue # \n",
    "    print(x) #\n",
    "\n"
   ]
  },
  {
   "cell_type": "markdown",
   "metadata": {},
   "source": [
    "# break \n",
    "while True:\n",
    "    guess=int(input(\"enter your lucky number \"))\n",
    "    if guess==42:\n",
    "        print(\"yes thats the luck number you won!!\")\n",
    "        break\n",
    "    print(\"wrong number\")"
   ]
  },
  {
   "cell_type": "code",
   "execution_count": 83,
   "metadata": {},
   "outputs": [
    {
     "data": {
      "text/plain": [
       "25"
      ]
     },
     "execution_count": 83,
     "metadata": {},
     "output_type": "execute_result"
    }
   ],
   "source": [
    "# using break to find out all the prime numbers less than equal to the given input \n",
    "a=51\n",
    "b=25\n",
    "b=a//2\n",
    "b\n",
    "    \n",
    "\n"
   ]
  },
  {
   "cell_type": "code",
   "execution_count": 84,
   "metadata": {},
   "outputs": [
    {
     "name": "stdout",
     "output_type": "stream",
     "text": [
      "43 is a prime number\n",
      "41 is a prime number\n",
      "37 is a prime number\n",
      "31 is a prime number\n",
      "29 is a prime number\n",
      "23 is a prime number\n",
      "19 is a prime number\n",
      "17 is a prime number\n",
      "13 is a prime number\n",
      "11 is a prime number\n",
      "7 is a prime number\n",
      "5 is a prime number\n",
      "3 is a prime number\n",
      "2 is a prime number\n"
     ]
    }
   ],
   "source": [
    "a=int(input(\"enter the num\"))\n",
    "while a>1:\n",
    "    b= a//2\n",
    "    while b>1:\n",
    "        if a%b ==0:\n",
    "            break\n",
    "        b-=1\n",
    "    else: \n",
    "        print(f'{a} is a prime number')\n",
    "    a-=1    \n",
    "\n",
    "\n",
    "        "
   ]
  },
  {
   "cell_type": "code",
   "execution_count": 85,
   "metadata": {},
   "outputs": [
    {
     "name": "stdout",
     "output_type": "stream",
     "text": [
      "nums [2, 3, 4, 65]\n",
      "lists [1, 2, 3, 4, 65, 9, 49]\n",
      "[1, 2, 3, 4, 65]\n",
      "[3, 4, 65, 9, 49]\n",
      "[2, 65]\n",
      "[65, 3]\n",
      "[1, 2, 3, 4, 65, 9, 49]\n",
      "[49, 9, 65, 4, 3, 2, 1]\n"
     ]
    }
   ],
   "source": [
    "# slicing \n",
    "\n",
    "\n",
    "lists=[1,2,3,4,65,9,49]\n",
    "list= lists[1:5]\n",
    "print(f'nums {list}')\n",
    "print(f'lists {lists}')\n",
    "print(lists[:5])\n",
    "print(lists[2:])\n",
    "print(lists[1:5:3])\n",
    "print(lists[4:1:-2])\n",
    "print(lists[::])\n",
    "print(lists[::-1])\n"
   ]
  },
  {
   "cell_type": "code",
   "execution_count": 86,
   "metadata": {},
   "outputs": [
    {
     "data": {
      "text/plain": [
       "['x', 'y', 'z', 4, 65, 9, 49]"
      ]
     },
     "execution_count": 86,
     "metadata": {},
     "output_type": "execute_result"
    }
   ],
   "source": [
    "lists[0:2]= ['x','y']\n",
    "lists[0:3]=[\"x\",\"y\",'z']\n",
    "lists"
   ]
  },
  {
   "cell_type": "code",
   "execution_count": 87,
   "metadata": {},
   "outputs": [
    {
     "name": "stdout",
     "output_type": "stream",
     "text": [
      "10.0.0.01\n",
      "198.200.40.1\n",
      "192.162.16,9\n",
      "True\n"
     ]
    }
   ],
   "source": [
    "#ittarating on the list\n",
    "\n",
    "ip_key= ['10.0.0.01','198.200.40.1','192.162.16,9']\n",
    "\n",
    "for ip in ip_key:\n",
    "    print(ip)\n",
    "\n",
    "print(\"10.0.0.01\" in ip_key)"
   ]
  },
  {
   "cell_type": "code",
   "execution_count": 88,
   "metadata": {},
   "outputs": [
    {
     "data": {
      "text/plain": [
       "['Dee', 'Sai', 'Rad', 'Abh', 'Kis', 'Ram']"
      ]
     },
     "execution_count": 88,
     "metadata": {},
     "output_type": "execute_result"
    }
   ],
   "source": [
    "#list comprihension \n",
    "\n",
    "\n",
    "clicks= [1,5,15,20]\n",
    "double_list=[]\n",
    "\n",
    "\n",
    "\n",
    "#['expresuion' for 'item' in 'iterable']\n",
    "double_thenumbers=[c*4 for c in clicks]\n",
    "double_thenumbers\n",
    "\n",
    "name=\"deepak\"\n",
    "name_list=[n for n in name]   # expression and item must have the same variable name \"n for n in name \" of 'c for c in name\"\n",
    "name_list\n",
    "\n",
    "name_list2=[n.capitalize() for n in name ] # you can add functions to the expression \n",
    "name_list2\n",
    "\n",
    "name_new=[\"deepak\", 'sai', \"radha\", 'abhi','kishore','ramana']\n",
    "name_new=[n.capitalize() for n in name_new]\n",
    "\n",
    "name_new=[n[:3] for n in name_new]\n",
    "name_new"
   ]
  },
  {
   "cell_type": "code",
   "execution_count": 89,
   "metadata": {},
   "outputs": [
    {
     "name": "stdout",
     "output_type": "stream",
     "text": [
      "1-2-3-4-5-6-7-8-21-10\n"
     ]
    }
   ],
   "source": [
    "#name=[\"deepak\", 'sai', \"radha\", 'abhi','kishore','ramana']\n",
    "nums= [1,2,3,4,5,6,7,8,21,10]\n",
    "divisable_with7=[n for n in nums if n % 7==0] # using conditional statements to fiter out \n",
    "divisable_with7\n",
    "\n",
    "nums_str= [str(n) for n in nums]\n",
    "nums_str\n",
    "print(\"-\".join(nums_str))"
   ]
  },
  {
   "cell_type": "code",
   "execution_count": 90,
   "metadata": {},
   "outputs": [
    {
     "data": {
      "text/plain": [
       "['sai', 'gopi']"
      ]
     },
     "execution_count": 90,
     "metadata": {},
     "output_type": "execute_result"
    }
   ],
   "source": [
    "# more list comprehension \n",
    "\n",
    "\n",
    "friends= [ \" deePak \" , 'Sai', 'raDha','abhi','gopi']\n",
    "neigh= ['rAju ', 'gopi', 'sai', 'aChi']\n",
    "friends_neigh=[f for f in friends if f in neigh]\n",
    "friends_lower=[f.lower() for f in friends]\n",
    "neigh_lower=[n.lower() for n in neigh]\n",
    "friends_neigh2=[f for f in friends_lower if f in neigh_lower]\n",
    "friends_neigh2"
   ]
  },
  {
   "cell_type": "code",
   "execution_count": 91,
   "metadata": {},
   "outputs": [
    {
     "data": {
      "text/plain": [
       "'no key in dict '"
      ]
     },
     "execution_count": 91,
     "metadata": {},
     "output_type": "execute_result"
    }
   ],
   "source": [
    "# working with dictionories \n",
    "dict={'name':'jhondoe','age':30,'adrress': 'hanuman jc'}\n",
    "\n",
    "dict['name']='deepak'\n",
    "dict['name']\n",
    "a= dict['age']\n",
    "a\n",
    "\n",
    "#value=dict['agee'] you can use this insted of get function but if the key is not is the list if will give key error \n",
    "#where as dict.get() method will give none object\n",
    "\n",
    "value=dict.get('agee','no key in dict ')# if no key is found it will return the 2nd arugument \n",
    "\n",
    "dict.pop()\n",
    "\n",
    "\n"
   ]
  },
  {
   "cell_type": "code",
   "execution_count": 98,
   "metadata": {},
   "outputs": [
    {
     "data": {
      "text/plain": [
       "'sai'"
      ]
     },
     "execution_count": 98,
     "metadata": {},
     "output_type": "execute_result"
    }
   ],
   "source": [
    "# acessing the dict like pro \n",
    "india={\n",
    "    'cites': ['delhi','hyderabad','mumbai','bangalore'],\n",
    "    'info': {'population': 1.5, 'people': ['deepak','sai', 'abhi']}\n",
    "}\n",
    "\n",
    "a= india['cites'][2]\n",
    "b=india['info']['people'][1]\n",
    "b\n"
   ]
  },
  {
   "cell_type": "code",
   "execution_count": 99,
   "metadata": {},
   "outputs": [
    {
     "data": {
      "text/plain": [
       "1.5"
      ]
     },
     "execution_count": 99,
     "metadata": {},
     "output_type": "execute_result"
    }
   ],
   "source": [
    "# more dict \n",
    "india=[\n",
    "    {\n",
    "    'cites': ['delhi','hyderabad','mumbai','bangalore'],\n",
    "    'info': {'population': 1.5, 'people': ['deepak','sai', 'abhi']}\n",
    "},\n",
    "   {\n",
    "    'cites': ['vijayawada','tirupathi','kolkatta','chennai'],\n",
    "    'info': {'population': 1.5, 'people': ['deepak','sai', 'abhi']}\n",
    "}\n",
    "]\n",
    "\n",
    "c=india[0]['info']['population']\n",
    "c"
   ]
  },
  {
   "cell_type": "code",
   "execution_count": 106,
   "metadata": {},
   "outputs": [
    {
     "data": {
      "text/plain": [
       "'{\\n    \"dan\": [\\n        20,\\n        \"london\",\\n        3234342\\n    ],\\n    \"maria\": [\\n        25,\\n        \"hyderabad\",\\n        5254645\\n    ]\\n}'"
      ]
     },
     "execution_count": 106,
     "metadata": {},
     "output_type": "execute_result"
    }
   ],
   "source": [
    "# working with json\n",
    "import json\n",
    "\n",
    "friends     = {'dan': [20,\"london\",3234342], 'maria':[25,'hyderabad',5254645]}\n",
    "\n",
    "# dump method to send python obj to json \n",
    "with open('friends.json','w') as f:\n",
    "    json.dump(friends,f, indent=4)# dump makes json in file \n",
    "\n",
    "json_string= json.dumps(friends,indent=4)# dumps makes json from code  \n",
    "json_string\n",
    "\n",
    "\n"
   ]
  },
  {
   "cell_type": "code",
   "execution_count": 113,
   "metadata": {},
   "outputs": [
    {
     "data": {
      "text/plain": [
       "{'dan': [20, 'london', 3234342], 'maria': [25, 'hyderabad', 5254645]}"
      ]
     },
     "execution_count": 113,
     "metadata": {},
     "output_type": "execute_result"
    }
   ],
   "source": [
    "# now json to python  \n",
    "import json\n",
    "with open('friends.json', 'rt') as f:\n",
    "    obj=json.load(f)# load method to get json file and load it in python obj\n",
    "\n",
    "\n",
    "obj # now its type is dict \n",
    "\n",
    "json_string= \"\"\"{\n",
    "    \"dan\": [\n",
    "        20,\n",
    "        \"london\",\n",
    "        3234342\n",
    "    ],\n",
    "    \"maria\": [\n",
    "        25,\n",
    "        \"hyderabad\",\n",
    "        5254645\n",
    "    ]\n",
    "}\"\"\"\n",
    "\n",
    "obj= json.loads(json_string) # load loads from file , loads load from code\n",
    "\n",
    "obj\n",
    "\n",
    "\n"
   ]
  },
  {
   "cell_type": "code",
   "execution_count": 117,
   "metadata": {},
   "outputs": [
    {
     "name": "stdout",
     "output_type": "stream",
     "text": [
      "Requirement already satisfied: requests in c:\\users\\deepa\\.virtualenvs\\practice-52z8ba_x\\lib\\site-packages (2.31.0)\n",
      "Requirement already satisfied: charset-normalizer<4,>=2 in c:\\users\\deepa\\.virtualenvs\\practice-52z8ba_x\\lib\\site-packages (from requests) (3.1.0)\n",
      "Requirement already satisfied: idna<4,>=2.5 in c:\\users\\deepa\\.virtualenvs\\practice-52z8ba_x\\lib\\site-packages (from requests) (3.4)\n",
      "Requirement already satisfied: urllib3<3,>=1.21.1 in c:\\users\\deepa\\.virtualenvs\\practice-52z8ba_x\\lib\\site-packages (from requests) (2.0.3)\n",
      "Requirement already satisfied: certifi>=2017.4.17 in c:\\users\\deepa\\.virtualenvs\\practice-52z8ba_x\\lib\\site-packages (from requests) (2023.5.7)\n",
      "Note: you may need to restart the kernel to use updated packages.\n"
     ]
    }
   ],
   "source": []
  },
  {
   "cell_type": "code",
   "execution_count": 127,
   "metadata": {},
   "outputs": [
    {
     "name": "stdout",
     "output_type": "stream",
     "text": [
      "{'userId': 1, 'id': 4, 'title': 'et porro tempora', 'completed': True}\n",
      "{'userId': 1, 'id': 8, 'title': 'quo adipisci enim quam ut ab', 'completed': True}\n",
      "{'userId': 1, 'id': 10, 'title': 'illo est ratione doloremque quia maiores aut', 'completed': True}\n",
      "{'userId': 1, 'id': 11, 'title': 'vero rerum temporibus dolor', 'completed': True}\n",
      "{'userId': 1, 'id': 12, 'title': 'ipsa repellendus fugit nisi', 'completed': True}\n",
      "{'userId': 1, 'id': 14, 'title': 'repellendus sunt dolores architecto voluptatum', 'completed': True}\n",
      "{'userId': 1, 'id': 15, 'title': 'ab voluptatum amet voluptas', 'completed': True}\n",
      "{'userId': 1, 'id': 16, 'title': 'accusamus eos facilis sint et aut voluptatem', 'completed': True}\n",
      "{'userId': 1, 'id': 17, 'title': 'quo laboriosam deleniti aut qui', 'completed': True}\n",
      "{'userId': 1, 'id': 19, 'title': 'molestiae ipsa aut voluptatibus pariatur dolor nihil', 'completed': True}\n",
      "{'userId': 1, 'id': 20, 'title': 'ullam nobis libero sapiente ad optio sint', 'completed': True}\n"
     ]
    },
    {
     "data": {
      "text/plain": [
       "[{'userId': 1, 'id': 4, 'title': 'et porro tempora', 'completed': True},\n",
       " {'userId': 1,\n",
       "  'id': 8,\n",
       "  'title': 'quo adipisci enim quam ut ab',\n",
       "  'completed': True},\n",
       " {'userId': 1,\n",
       "  'id': 10,\n",
       "  'title': 'illo est ratione doloremque quia maiores aut',\n",
       "  'completed': True},\n",
       " {'userId': 1,\n",
       "  'id': 11,\n",
       "  'title': 'vero rerum temporibus dolor',\n",
       "  'completed': True},\n",
       " {'userId': 1,\n",
       "  'id': 12,\n",
       "  'title': 'ipsa repellendus fugit nisi',\n",
       "  'completed': True},\n",
       " {'userId': 1,\n",
       "  'id': 14,\n",
       "  'title': 'repellendus sunt dolores architecto voluptatum',\n",
       "  'completed': True},\n",
       " {'userId': 1,\n",
       "  'id': 15,\n",
       "  'title': 'ab voluptatum amet voluptas',\n",
       "  'completed': True},\n",
       " {'userId': 1,\n",
       "  'id': 16,\n",
       "  'title': 'accusamus eos facilis sint et aut voluptatem',\n",
       "  'completed': True},\n",
       " {'userId': 1,\n",
       "  'id': 17,\n",
       "  'title': 'quo laboriosam deleniti aut qui',\n",
       "  'completed': True},\n",
       " {'userId': 1,\n",
       "  'id': 19,\n",
       "  'title': 'molestiae ipsa aut voluptatibus pariatur dolor nihil',\n",
       "  'completed': True},\n",
       " {'userId': 1,\n",
       "  'id': 20,\n",
       "  'title': 'ullam nobis libero sapiente ad optio sint',\n",
       "  'completed': True}]"
      ]
     },
     "execution_count": 127,
     "metadata": {},
     "output_type": "execute_result"
    }
   ],
   "source": [
    "# api calls \n",
    "\n",
    "import json \n",
    "import requests \n",
    "\n",
    "response= requests.get('https://jsonplaceholder.typicode.com/users/1/todos')\n",
    "\n",
    "todos=json.loads(response.text) # here you have to use text , not txt \n",
    "type(todos)\n",
    "\n",
    "\n",
    "# getting only the completed todo \n",
    "\n",
    "\n",
    "for task in todos:\n",
    "    if task['completed']==True:# filtering the json \n",
    "        print(task)\n",
    "# you can do that with list compr\n",
    "\n",
    "d=[t for t in todos if t['completed']==True]\n",
    "d\n",
    "\n"
   ]
  },
  {
   "cell_type": "code",
   "execution_count": null,
   "metadata": {},
   "outputs": [],
   "source": []
  }
 ],
 "metadata": {
  "kernelspec": {
   "display_name": "PRACTICE-52Z8bA_X",
   "language": "python",
   "name": "python3"
  },
  "language_info": {
   "codemirror_mode": {
    "name": "ipython",
    "version": 3
   },
   "file_extension": ".py",
   "mimetype": "text/x-python",
   "name": "python",
   "nbconvert_exporter": "python",
   "pygments_lexer": "ipython3",
   "version": "3.11.4"
  },
  "orig_nbformat": 4
 },
 "nbformat": 4,
 "nbformat_minor": 2
}
